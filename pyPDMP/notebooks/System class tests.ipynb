{
 "cells": [
  {
   "cell_type": "code",
   "execution_count": 1,
   "metadata": {},
   "outputs": [],
   "source": [
    "%matplotlib inline\n",
    "import torch\n",
    "from torchdiffeq import odeint\n",
    "import numpy as np\n",
    "import matplotlib.pyplot as plt\n",
    "from scipy.stats import multivariate_normal\n",
    "\n",
    "import pandas as pd\n",
    "import seaborn as sns\n",
    "from pyPDMP.systems import System, LinearSystem, LinearStochasticSystem"
   ]
  },
  {
   "cell_type": "code",
   "execution_count": 10,
   "metadata": {},
   "outputs": [],
   "source": [
    "m = LinearStochasticSystem(k=2, b=2, lambd=0.99, mu_jump=0.3, std_jump=0.3, std_s=0.3)\n",
    "x0 = 10*torch.rand(2)\n",
    "\n",
    "sol = m.trajectory(x0, 10, 100)"
   ]
  },
  {
   "cell_type": "code",
   "execution_count": 11,
   "metadata": {},
   "outputs": [
    {
     "data": {
      "text/plain": [
       "[<matplotlib.lines.Line2D at 0x19ddbbf76d8>,\n",
       " <matplotlib.lines.Line2D at 0x19ddbbf7828>]"
      ]
     },
     "execution_count": 11,
     "metadata": {},
     "output_type": "execute_result"
    },
    {
     "data": {
      "image/png": "[encoded data removed]",
      "text/plain": [
       "<Figure size 432x288 with 1 Axes>"
      ]
     },
     "metadata": {
      "needs_background": "light"
     },
     "output_type": "display_data"
    }
   ],
   "source": [
    "plt.plot(sol.numpy())"
   ]
  },
  {
   "cell_type": "code",
   "execution_count": 4,
   "metadata": {},
   "outputs": [
    {
     "data": {
      "text/plain": [
       "132"
      ]
     },
     "execution_count": 4,
     "metadata": {},
     "output_type": "execute_result"
    }
   ],
   "source": [
    "m.jcount"
   ]
  },
  {
   "cell_type": "code",
   "execution_count": 5,
   "metadata": {},
   "outputs": [
    {
     "data": {
      "text/plain": [
       "[[1.8, tensor([9.6166e-05, 9.8067e-03]), tensor([ 1.9317, -1.1154])],\n",
       " [2.3, tensor([9.6217e-05, 9.8066e-03]), tensor([-4.7682,  0.0501])],\n",
       " [2.6, tensor([9.8954e-05, 9.8011e-03]), tensor([-0.8010, -0.0603])],\n",
       " [2.7, tensor([0.0032, 0.0003]), tensor([-1.2777,  0.5019])],\n",
       " [3.3, tensor([9.6166e-05, 9.8067e-03]), tensor([-0.1123,  4.0420])],\n",
       " [3.5, tensor([1.8314e-06, 9.9963e-03]), tensor([ 2.6127, -3.7027])],\n",
       " [4.8, tensor([9.6166e-05, 9.8067e-03]), tensor([ 3.3380, -3.7936])],\n",
       " [6.5, tensor([9.6166e-05, 9.8067e-03]), tensor([-1.8695, -0.8410])],\n",
       " [6.9, tensor([9.6044e-05, 9.8070e-03]), tensor([0.7072, 4.5532])],\n",
       " [8.8, tensor([9.6166e-05, 9.8067e-03]), tensor([1.5463, 2.8288])],\n",
       " [9.0, tensor([-4.5500e-05,  1.0091e-02]), tensor([-5.5068, -0.6088])],\n",
       " [9.6, tensor([9.6166e-05, 9.8067e-03]), tensor([-0.3964, -4.1187])],\n",
       " [9.8, tensor([-0.0160,  0.0315]), tensor([-0.2491,  1.0626])],\n",
       " [10.9, tensor([9.6166e-05, 9.8067e-03]), tensor([0.5572, 0.8798])],\n",
       " [11.6, tensor([9.6166e-05, 9.8067e-03]), tensor([ 0.5802, -2.8276])],\n",
       " [12.3, tensor([9.6166e-05, 9.8067e-03]), tensor([-3.6086,  2.4020])],\n",
       " [12.6, tensor([9.8993e-05, 9.8010e-03]), tensor([ 1.5238, -0.8633])],\n",
       " [13.2, tensor([9.6166e-05, 9.8067e-03]), tensor([1.8211, 0.7331])],\n",
       " [13.5, tensor([8.0307e-05, 9.8387e-03]), tensor([-2.8274,  1.3187])],\n",
       " [14.7, tensor([9.6166e-05, 9.8067e-03]), tensor([-4.2834, -1.4475])],\n",
       " [15.2, tensor([9.6169e-05, 9.8067e-03]), tensor([-1.6264,  1.2844])],\n",
       " [15.5, tensor([9.9233e-05, 9.8005e-03]), tensor([-1.5665, -5.2797])],\n",
       " [16.0, tensor([9.6476e-05, 9.8061e-03]), tensor([-1.3130,  1.1328])],\n",
       " [16.3, tensor([9.9526e-05, 9.7999e-03]), tensor([ 3.0750, -1.7369])],\n",
       " [16.8, tensor([9.6735e-05, 9.8056e-03]), tensor([-0.6557,  1.0873])],\n",
       " [17.9, tensor([9.6166e-05, 9.8067e-03]), tensor([-0.8113,  3.9416])],\n",
       " [18.2, tensor([9.8952e-05, 9.8011e-03]), tensor([1.0125, 0.9318])],\n",
       " [18.6, tensor([9.6190e-05, 9.8067e-03]), tensor([2.8505, 1.8505])],\n",
       " [19.1, tensor([9.6153e-05, 9.8068e-03]), tensor([-2.5002, -0.0854])],\n",
       " [20.0, tensor([9.6166e-05, 9.8067e-03]), tensor([-6.1057,  2.2239])],\n",
       " [20.9, tensor([9.6166e-05, 9.8067e-03]), tensor([-0.2890, -0.1416])],\n",
       " [21.6, tensor([9.6166e-05, 9.8067e-03]), tensor([ 5.3680, -0.0782])],\n",
       " [22.6, tensor([9.6166e-05, 9.8067e-03]), tensor([-1.0363,  0.7175])],\n",
       " [25.5, tensor([9.6166e-05, 9.8067e-03]), tensor([-3.7258,  0.6769])],\n",
       " [25.6, tensor([-1.1662e-04,  7.9302e-05]), tensor([-1.9737,  0.1883])],\n",
       " [26.1, tensor([9.6169e-05, 9.8067e-03]), tensor([-1.5611,  2.8866])],\n",
       " [26.7, tensor([9.6166e-05, 9.8067e-03]), tensor([ 2.8714, -1.8185])],\n",
       " [26.9, tensor([-0.0730,  0.0198]), tensor([-1.0267,  1.0700])],\n",
       " [28.4, tensor([9.6166e-05, 9.8067e-03]), tensor([0.0047, 1.8793])],\n",
       " [29.0, tensor([9.6166e-05, 9.8067e-03]), tensor([-1.2992,  1.9267])],\n",
       " [30.6, tensor([9.6166e-05, 9.8067e-03]), tensor([3.4390, 2.9964])],\n",
       " [30.8, tensor([0.0003, 0.0095]), tensor([-1.6501, -2.5674])],\n",
       " [31.1, tensor([8.3407e-05, 9.8325e-03]), tensor([5.6672, 1.2764])],\n",
       " [31.2, tensor([ 0.7657, -1.0208]), tensor([-0.0347,  1.8565])],\n",
       " [33.2, tensor([9.6166e-05, 9.8067e-03]), tensor([0.8291, 1.2132])],\n",
       " [33.5, tensor([9.8647e-05, 9.8017e-03]), tensor([-2.3941,  2.8377])],\n",
       " [33.6, tensor([-4.6393e-05,  7.2918e-05]), tensor([ 0.0545, -0.5422])],\n",
       " [34.1, tensor([9.6159e-05, 9.8067e-03]), tensor([-2.2235, -1.2246])],\n",
       " [34.4, tensor([0.0001, 0.0098]), tensor([-0.3232,  1.4595])],\n",
       " [37.0, tensor([9.6166e-05, 9.8067e-03]), tensor([-0.2163, -1.5969])],\n",
       " [37.6, tensor([9.6166e-05, 9.8067e-03]), tensor([-1.8102,  0.9985])],\n",
       " [37.7, tensor([ 0.0002, -0.0008]), tensor([-0.2962,  4.9046])],\n",
       " [37.8, tensor([-4.8676e-05,  7.4541e-05]), tensor([-1.1137,  1.6270])],\n",
       " [37.9, tensor([ 0.0003, -0.0008]), tensor([ 0.7017, -1.4110])],\n",
       " [38.0, tensor([-0.0709,  0.0282]), tensor([-2.1138, -1.3861])],\n",
       " [40.2, tensor([9.6166e-05, 9.8067e-03]), tensor([2.0579, 2.3503])],\n",
       " [40.3, tensor([0.0022, 0.0050]), tensor([ 0.0172, -0.4776])],\n",
       " [40.6, tensor([9.0348e-05, 9.8185e-03]), tensor([0.3047, 3.3045])],\n",
       " [40.7, tensor([ 7.0386e-05, -5.6337e-04]), tensor([2.3407, 0.5821])],\n",
       " [40.9, tensor([0.0009, 0.0080]), tensor([0.6798, 1.0270])],\n",
       " [41.2, tensor([9.8464e-05, 9.8021e-03]), tensor([ 1.4649, -0.7329])],\n",
       " [42.9, tensor([9.6166e-05, 9.8067e-03]), tensor([-1.0038,  2.7679])],\n",
       " [43.7, tensor([9.6166e-05, 9.8067e-03]), tensor([1.6403, 3.7092])],\n",
       " [43.8, tensor([ 0.0011, -0.0017]), tensor([-2.2815, -1.0764])],\n",
       " [45.1, tensor([9.6166e-05, 9.8067e-03]), tensor([ 1.2503, -4.8111])],\n",
       " [46.1, tensor([9.6166e-05, 9.8067e-03]), tensor([1.4002, 2.3374])],\n",
       " [50.1, tensor([9.6166e-05, 9.8067e-03]), tensor([-4.0017, -0.7814])],\n",
       " [50.8, tensor([9.6166e-05, 9.8067e-03]), tensor([1.5591, 1.0181])],\n",
       " [51.6, tensor([9.6166e-05, 9.8067e-03]), tensor([ 0.1301, -2.9180])],\n",
       " [53.0, tensor([9.6166e-05, 9.8067e-03]), tensor([ 1.1403, -1.3775])],\n",
       " [53.2, tensor([0.0004, 0.0091]), tensor([ 3.1194, -1.0424])],\n",
       " [55.0, tensor([9.6166e-05, 9.8067e-03]), tensor([ 3.4610, -1.3419])],\n",
       " [55.2, tensor([-0.0745,  0.0056]), tensor([0.6112, 4.1910])],\n",
       " [56.0, tensor([9.6166e-05, 9.8067e-03]), tensor([-0.6759,  6.6781])],\n",
       " [56.6, tensor([9.6166e-05, 9.8067e-03]), tensor([0.5758, 1.4917])],\n",
       " [58.2, tensor([9.6166e-05, 9.8067e-03]), tensor([3.3478, 0.9606])],\n",
       " [58.4, tensor([0.0007, 0.0087]), tensor([-3.1258,  2.0175])],\n",
       " [58.5, tensor([-5.3043e-05,  7.7432e-05]), tensor([1.4889, 0.3669])],\n",
       " [59.4, tensor([9.6166e-05, 9.8067e-03]), tensor([-0.8096,  5.6243])],\n",
       " [59.6, tensor([1.1055e-07, 9.9998e-03]), tensor([0.6297, 3.7491])],\n",
       " [60.3, tensor([9.6166e-05, 9.8067e-03]), tensor([0.2803, 1.3394])],\n",
       " [60.8, tensor([9.6169e-05, 9.8067e-03]), tensor([ 3.8849, -1.7217])],\n",
       " [61.0, tensor([-0.0347,  0.0449]), tensor([2.2500, 0.2394])],\n",
       " [62.2, tensor([9.6166e-05, 9.8067e-03]), tensor([0.3272, 1.8309])],\n",
       " [62.5, tensor([0.0001, 0.0098]), tensor([-2.4602,  0.7131])],\n",
       " [63.7, tensor([9.6166e-05, 9.8067e-03]), tensor([-3.6511, -1.9512])],\n",
       " [63.9, tensor([-3.8738e-05,  1.0077e-02]), tensor([2.7632, 3.7281])],\n",
       " [64.2, tensor([0.0001, 0.0098]), tensor([4.0509, 2.2445])],\n",
       " [66.4, tensor([9.6166e-05, 9.8067e-03]), tensor([1.5590, 3.4873])],\n",
       " [67.9, tensor([9.6166e-05, 9.8067e-03]), tensor([ 4.5116, -2.3906])],\n",
       " [68.3, tensor([9.9003e-05, 9.8010e-03]), tensor([3.1581, 0.6382])],\n",
       " [68.8, tensor([9.6157e-05, 9.8067e-03]), tensor([-3.1311,  1.2734])],\n",
       " [68.9, tensor([-1.1648e-04,  7.9434e-05]), tensor([-1.9064,  4.5452])],\n",
       " [71.0, tensor([9.6166e-05, 9.8067e-03]), tensor([-2.0789,  1.4270])],\n",
       " [71.9, tensor([9.6166e-05, 9.8067e-03]), tensor([-0.2695,  0.0158])],\n",
       " [72.3, tensor([9.6108e-05, 9.8068e-03]), tensor([-2.7559, -1.3682])],\n",
       " [75.6, tensor([9.6166e-05, 9.8067e-03]), tensor([4.0913, 0.5335])],\n",
       " [75.8, tensor([-0.0104,  0.0255]), tensor([-0.6799,  1.2927])],\n",
       " [76.6, tensor([9.6166e-05, 9.8067e-03]), tensor([5.1449, 1.1754])],\n",
       " [77.0, tensor([7.9395e-05, 9.8406e-03]), tensor([5.2152, 0.8622])],\n",
       " [78.4, tensor([9.6166e-05, 9.8067e-03]), tensor([ 2.5188, -3.0834])],\n",
       " [79.0, tensor([9.6148e-05, 9.8068e-03]), tensor([-1.5076, -0.3839])],\n",
       " [81.0, tensor([9.6166e-05, 9.8067e-03]), tensor([4.3543, 0.6862])],\n",
       " [82.4, tensor([9.6166e-05, 9.8067e-03]), tensor([0.8781, 1.8745])],\n",
       " [83.0, tensor([9.6166e-05, 9.8067e-03]), tensor([-3.5900,  2.3070])],\n",
       " [83.1, tensor([-1.0347e-05,  3.5800e-05]), tensor([0.4886, 3.1063])],\n",
       " [83.2, tensor([ 0.0004, -0.0010]), tensor([3.2321, 0.7891])],\n",
       " [84.5, tensor([9.6166e-05, 9.8067e-03]), tensor([2.1898, 0.4130])],\n",
       " [84.7, tensor([0.0009, 0.0080]), tensor([-0.6524,  1.8231])],\n",
       " [85.1, tensor([9.6067e-05, 9.8069e-03]), tensor([-4.8175,  2.9484])],\n",
       " [85.5, tensor([9.6082e-05, 9.8069e-03]), tensor([1.4338, 1.5126])],\n",
       " [86.5, tensor([9.6166e-05, 9.8067e-03]), tensor([-1.1658,  1.1211])],\n",
       " [86.7, tensor([-2.2040e-05,  1.0044e-02]), tensor([ 0.2950, -2.7755])],\n",
       " [87.4, tensor([9.6166e-05, 9.8067e-03]), tensor([1.2133, 0.9726])],\n",
       " [87.6, tensor([0.0002, 0.0096]), tensor([4.2836, 0.0956])],\n",
       " [88.1, tensor([9.6828e-05, 9.8054e-03]), tensor([2.2919, 0.5422])],\n",
       " [88.5, tensor([9.6920e-05, 9.8052e-03]), tensor([3.0419, 0.5659])],\n",
       " [88.9, tensor([9.6530e-05, 9.8060e-03]), tensor([1.6508, 4.2124])],\n",
       " [89.4, tensor([9.6169e-05, 9.8067e-03]), tensor([-2.1893,  1.6024])],\n",
       " [89.7, tensor([9.8976e-05, 9.8011e-03]), tensor([-2.0020,  1.4375])],\n",
       " [91.2, tensor([9.6166e-05, 9.8067e-03]), tensor([2.3317, 0.2704])],\n",
       " [91.7, tensor([9.6144e-05, 9.8068e-03]), tensor([1.1268, 6.1832])],\n",
       " [93.1, tensor([9.6166e-05, 9.8067e-03]), tensor([ 0.0867, -1.4932])],\n",
       " [93.4, tensor([7.2315e-05, 9.8548e-03]), tensor([ 0.6517, -1.0414])],\n",
       " [93.8, tensor([9.6907e-05, 9.8052e-03]), tensor([-2.4037,  1.3584])],\n",
       " [93.9, tensor([-1.3510e-04, -5.3941e-05]), tensor([ 1.8660, -0.4825])],\n",
       " [94.3, tensor([9.6709e-05, 9.8056e-03]), tensor([-2.1640, -0.2734])],\n",
       " [95.3, tensor([9.6166e-05, 9.8067e-03]), tensor([-0.6446, -0.3805])],\n",
       " [97.5, tensor([9.6166e-05, 9.8067e-03]), tensor([2.2664, 0.2189])],\n",
       " [98.3, tensor([9.6166e-05, 9.8067e-03]), tensor([0.0413, 0.5528])],\n",
       " [98.8, tensor([9.6168e-05, 9.8067e-03]), tensor([-0.3311,  0.0753])],\n",
       " [99.6, tensor([9.6166e-05, 9.8067e-03]), tensor([-4.4547,  0.2388])]]"
      ]
     },
     "execution_count": 5,
     "metadata": {},
     "output_type": "execute_result"
    }
   ],
   "source": [
    "m.log"
   ]
  },
  {
   "cell_type": "code",
   "execution_count": null,
   "metadata": {},
   "outputs": [],
   "source": []
  }
 ],
 "metadata": {
  "kernelspec": {
   "display_name": "Python 3",
   "language": "python",
   "name": "python3"
  },
  "language_info": {
   "codemirror_mode": {
    "name": "ipython",
    "version": 3
   },
   "file_extension": ".py",
   "mimetype": "text/x-python",
   "name": "python",
   "nbconvert_exporter": "python",
   "pygments_lexer": "ipython3",
   "version": "3.7.3"
  }
 },
 "nbformat": 4,
 "nbformat_minor": 2
}
