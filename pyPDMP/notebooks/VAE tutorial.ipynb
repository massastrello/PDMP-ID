{
 "cells": [
  {
   "cell_type": "code",
   "execution_count": 1,
   "metadata": {},
   "outputs": [],
   "source": [
    "import torch\n",
    "import torch.nn.functional as F\n",
    "from pyPDMP.models import VAE\n",
    "from pyPDMP.utils import loss_function\n",
    "\n",
    "import matplotlib.pyplot as plt\n",
    "import torchvision\n",
    "import torchvision.datasets as datasets"
   ]
  },
  {
   "cell_type": "code",
   "execution_count": 2,
   "metadata": {},
   "outputs": [],
   "source": [
    "m = VAE()#.cuda()"
   ]
  },
  {
   "cell_type": "code",
   "execution_count": 3,
   "metadata": {},
   "outputs": [
    {
     "data": {
      "text/plain": [
       "VAE(\n",
       "  (fc1): Linear(in_features=784, out_features=400, bias=True)\n",
       "  (fc21): Linear(in_features=400, out_features=20, bias=True)\n",
       "  (fc22): Linear(in_features=400, out_features=20, bias=True)\n",
       "  (fc3): Linear(in_features=20, out_features=400, bias=True)\n",
       "  (fc4): Linear(in_features=400, out_features=784, bias=True)\n",
       ")"
      ]
     },
     "execution_count": 3,
     "metadata": {},
     "output_type": "execute_result"
    }
   ],
   "source": [
    "m"
   ]
  },
  {
   "cell_type": "markdown",
   "metadata": {},
   "source": [
    "## Training the VAE"
   ]
  },
  {
   "cell_type": "code",
   "execution_count": 4,
   "metadata": {},
   "outputs": [],
   "source": [
    "transform = torchvision.transforms.Compose(\n",
    "    [torchvision.transforms.ToTensor()\n",
    "    ])\n",
    "\n",
    "dataset = datasets.MNIST(root='./data', train=True, download=True, transform=transform)"
   ]
  },
  {
   "cell_type": "code",
   "execution_count": 5,
   "metadata": {},
   "outputs": [],
   "source": [
    "data_loader = torch.utils.data.DataLoader(dataset=dataset,\n",
    "                                          batch_size=32, \n",
    "                                          shuffle=True)"
   ]
  },
  {
   "cell_type": "code",
   "execution_count": 6,
   "metadata": {},
   "outputs": [],
   "source": [
    "size = 28*28\n",
    "\n",
    "def train(m, loader, epoch):\n",
    "    optimizer = torch.optim.Adam(m.parameters(), lr=1e-3)\n",
    "    m.train()\n",
    "    train_loss = 0\n",
    "    for batch_idx, (x, _) in enumerate(loader):\n",
    "        # flatten the batch\n",
    "        x = x.view(-1, size)\n",
    "        optimizer.zero_grad()\n",
    "        recon_batch, mu, logvar = m(x)\n",
    "        loss = loss_function(recon_batch, x, mu, logvar)\n",
    "        loss.backward()\n",
    "        train_loss += loss.item()\n",
    "        optimizer.step()\n",
    "        if batch_idx % 100 == 0:\n",
    "            print('Train Epoch: {} [{}/{} ({:.0f}%)]\\tLoss: {:.6f}'.format(\n",
    "                epoch, batch_idx * len(x), len(loader.dataset),\n",
    "                100. * batch_idx / len(loader),\n",
    "                loss.item() / len(x)))\n",
    "\n",
    "    print('====> Epoch: {} Average loss: {:.4f}'.format(\n",
    "          epoch, train_loss / len(loader.dataset)))"
   ]
  },
  {
   "cell_type": "code",
   "execution_count": 7,
   "metadata": {},
   "outputs": [
    {
     "name": "stdout",
     "output_type": "stream",
     "text": [
      "Train Epoch: 10 [0/60000 (0%)]\tLoss: 549.627625\n",
      "Train Epoch: 10 [3200/60000 (5%)]\tLoss: 184.497803\n",
      "Train Epoch: 10 [6400/60000 (11%)]\tLoss: 177.050995\n",
      "Train Epoch: 10 [9600/60000 (16%)]\tLoss: 142.868423\n",
      "Train Epoch: 10 [12800/60000 (21%)]\tLoss: 147.779877\n",
      "Train Epoch: 10 [16000/60000 (27%)]\tLoss: 151.464111\n",
      "Train Epoch: 10 [19200/60000 (32%)]\tLoss: 128.864929\n",
      "Train Epoch: 10 [22400/60000 (37%)]\tLoss: 134.548721\n",
      "Train Epoch: 10 [25600/60000 (43%)]\tLoss: 135.160309\n",
      "Train Epoch: 10 [28800/60000 (48%)]\tLoss: 120.418396\n",
      "Train Epoch: 10 [32000/60000 (53%)]\tLoss: 126.052155\n",
      "Train Epoch: 10 [35200/60000 (59%)]\tLoss: 125.479019\n",
      "Train Epoch: 10 [38400/60000 (64%)]\tLoss: 112.062943\n",
      "Train Epoch: 10 [41600/60000 (69%)]\tLoss: 125.385208\n",
      "Train Epoch: 10 [44800/60000 (75%)]\tLoss: 117.159813\n",
      "Train Epoch: 10 [48000/60000 (80%)]\tLoss: 112.711296\n",
      "Train Epoch: 10 [51200/60000 (85%)]\tLoss: 121.607925\n",
      "Train Epoch: 10 [54400/60000 (91%)]\tLoss: 108.122177\n",
      "Train Epoch: 10 [57600/60000 (96%)]\tLoss: 119.028412\n",
      "====> Epoch: 10 Average loss: 135.8732\n"
     ]
    }
   ],
   "source": [
    "train(m, data_loader, 10)"
   ]
  },
  {
   "cell_type": "code",
   "execution_count": 8,
   "metadata": {},
   "outputs": [],
   "source": [
    "x = data_loader.dataset.data[1]\n",
    "y = m(x.float().view(-1,size))[0].view(28,28)"
   ]
  },
  {
   "cell_type": "code",
   "execution_count": 9,
   "metadata": {},
   "outputs": [
    {
     "data": {
      "text/plain": [
       "<matplotlib.image.AxesImage at 0x1f69de61978>"
      ]
     },
     "execution_count": 9,
     "metadata": {},
     "output_type": "execute_result"
    },
    {
     "data": {
      "image/png": "[encoded data removed]",
      "text/plain": [
       "<Figure size 432x288 with 2 Axes>"
      ]
     },
     "metadata": {
      "needs_background": "light"
     },
     "output_type": "display_data"
    }
   ],
   "source": [
    "plt.figure()\n",
    "plt.subplot(121)\n",
    "plt.imshow(x)\n",
    "plt.subplot(122)\n",
    "plt.imshow(y.detach().numpy())"
   ]
  },
  {
   "cell_type": "code",
   "execution_count": null,
   "metadata": {},
   "outputs": [],
   "source": []
  }
 ],
 "metadata": {
  "kernelspec": {
   "display_name": "Python 3",
   "language": "python",
   "name": "python3"
  },
  "language_info": {
   "codemirror_mode": {
    "name": "ipython",
    "version": 3
   },
   "file_extension": ".py",
   "mimetype": "text/x-python",
   "name": "python",
   "nbconvert_exporter": "python",
   "pygments_lexer": "ipython3",
   "version": "3.7.3"
  }
 },
 "nbformat": 4,
 "nbformat_minor": 2
}
