{
 "cells": [
  {
   "cell_type": "code",
   "execution_count": 1,
   "metadata": {},
   "outputs": [],
   "source": [
    "import torch\n",
    "import torch.nn.functional as F\n",
    "from pyPDMP.models import VAE\n",
    "from pyPDMP.utils import loss_function\n",
    "\n",
    "import matplotlib.pyplot as plt\n",
    "import torchvision\n",
    "import torchvision.datasets as datasets"
   ]
  },
  {
   "cell_type": "code",
   "execution_count": 2,
   "metadata": {},
   "outputs": [],
   "source": [
    "m = VAE().cuda()"
   ]
  },
  {
   "cell_type": "code",
   "execution_count": 3,
   "metadata": {},
   "outputs": [
    {
     "data": {
      "text/plain": [
       "VAE(\n",
       "  (fc1): Linear(in_features=2, out_features=400, bias=True)\n",
       "  (fc21): Linear(in_features=400, out_features=20, bias=True)\n",
       "  (fc22): Linear(in_features=400, out_features=20, bias=True)\n",
       "  (fc3): Linear(in_features=20, out_features=400, bias=True)\n",
       "  (fc4): Linear(in_features=400, out_features=2, bias=True)\n",
       ")"
      ]
     },
     "execution_count": 3,
     "metadata": {},
     "output_type": "execute_result"
    }
   ],
   "source": [
    "m"
   ]
  },
  {
   "cell_type": "markdown",
   "metadata": {},
   "source": [
    "## Training the VAE"
   ]
  },
  {
   "cell_type": "code",
   "execution_count": 4,
   "metadata": {},
   "outputs": [],
   "source": [
    "transform = torchvision.transforms.Compose(\n",
    "    [torchvision.transforms.ToTensor()\n",
    "    ])\n",
    "\n",
    "dataset = datasets.MNIST(root='./data', train=True, download=True, transform=transform)"
   ]
  },
  {
   "cell_type": "code",
   "execution_count": 5,
   "metadata": {},
   "outputs": [],
   "source": [
    "data_loader = torch.utils.data.DataLoader(dataset=dataset,\n",
    "                                          batch_size=32, \n",
    "                                          shuffle=True)"
   ]
  },
  {
   "cell_type": "code",
   "execution_count": 8,
   "metadata": {},
   "outputs": [],
   "source": [
    "size = 28*28\n",
    "\n",
    "def train(m, loader, epoch):\n",
    "    optimizer = torch.optim.Adam(m.parameters(), lr=1e-3)\n",
    "    m.train()\n",
    "    train_loss = 0\n",
    "    for batch_idx, (x, _) in enumerate(loader):\n",
    "        # flatten the batch\n",
    "        x = x.cuda().view(-1, size)\n",
    "        optimizer.zero_grad()\n",
    "        recon_batch, mu, logvar = m(x)\n",
    "        loss = loss_function(recon_batch, x, mu, logvar)\n",
    "        loss.backward()\n",
    "        train_loss += loss.item()\n",
    "        optimizer.step()\n",
    "        if batch_idx % 100 == 0:\n",
    "            print('Train Epoch: {} [{}/{} ({:.0f}%)]\\tLoss: {:.6f}'.format(\n",
    "                epoch, batch_idx * len(x), len(loader.dataset),\n",
    "                100. * batch_idx / len(loader),\n",
    "                loss.item() / len(x)))\n",
    "\n",
    "    print('====> Epoch: {} Average loss: {:.4f}'.format(\n",
    "          epoch, train_loss / len(loader.dataset)))"
   ]
  },
  {
   "cell_type": "code",
   "execution_count": 9,
   "metadata": {},
   "outputs": [
    {
     "name": "stdout",
     "output_type": "stream",
     "text": [
      "Train Epoch: 10 [0/60000 (0%)]\tLoss: 581.390320\n",
      "Train Epoch: 10 [3200/60000 (5%)]\tLoss: 312.232056\n",
      "Train Epoch: 10 [6400/60000 (11%)]\tLoss: 297.304443\n",
      "Train Epoch: 10 [9600/60000 (16%)]\tLoss: 274.279114\n",
      "Train Epoch: 10 [12800/60000 (21%)]\tLoss: 283.327423\n",
      "Train Epoch: 10 [16000/60000 (27%)]\tLoss: 288.162109\n",
      "Train Epoch: 10 [19200/60000 (32%)]\tLoss: 277.701721\n",
      "Train Epoch: 10 [22400/60000 (37%)]\tLoss: 264.023682\n",
      "Train Epoch: 10 [25600/60000 (43%)]\tLoss: 272.127441\n",
      "Train Epoch: 10 [28800/60000 (48%)]\tLoss: 263.684998\n",
      "Train Epoch: 10 [32000/60000 (53%)]\tLoss: 278.714539\n",
      "Train Epoch: 10 [35200/60000 (59%)]\tLoss: 286.571350\n",
      "Train Epoch: 10 [38400/60000 (64%)]\tLoss: 277.598267\n",
      "Train Epoch: 10 [41600/60000 (69%)]\tLoss: 275.185577\n",
      "Train Epoch: 10 [44800/60000 (75%)]\tLoss: 258.207825\n",
      "Train Epoch: 10 [48000/60000 (80%)]\tLoss: 283.936157\n",
      "Train Epoch: 10 [51200/60000 (85%)]\tLoss: 268.934601\n",
      "Train Epoch: 10 [54400/60000 (91%)]\tLoss: 285.672180\n",
      "Train Epoch: 10 [57600/60000 (96%)]\tLoss: 280.518372\n",
      "====> Epoch: 10 Average loss: 280.7677\n"
     ]
    }
   ],
   "source": [
    "train(m, data_loader, 10)"
   ]
  },
  {
   "cell_type": "code",
   "execution_count": null,
   "metadata": {},
   "outputs": [],
   "source": []
  },
  {
   "cell_type": "code",
   "execution_count": null,
   "metadata": {},
   "outputs": [],
   "source": []
  }
 ],
 "metadata": {
  "kernelspec": {
   "display_name": "Python 3",
   "language": "python",
   "name": "python3"
  }
 },
 "nbformat": 4,
 "nbformat_minor": 2
}
