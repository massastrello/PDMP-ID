{
 "cells": [
  {
   "cell_type": "code",
   "execution_count": 1,
   "metadata": {},
   "outputs": [],
   "source": [
    "%matplotlib inline\n",
    "import torch\n",
    "import torch.utils.data\n",
    "from torchdiffeq import odeint\n",
    "import numpy as np\n",
    "import matplotlib.pyplot as plt\n",
    "from scipy.stats import multivariate_normal\n",
    "\n",
    "import pandas as pd\n",
    "import seaborn as sns\n",
    "from pyPDMP.systems import System, LinearSystem, LinearStochasticSystem\n",
    "from pyPDMP.models import MLP\n",
    "from pyPDMP.utils import buildDataset\n",
    "\n",
    "from pyPDMP.models import VAE\n",
    "from pyPDMP.utils import loss_function"
   ]
  },
  {
   "cell_type": "code",
   "execution_count": null,
   "metadata": {},
   "outputs": [],
   "source": [
    "m = LinearStochasticSystem(k=2, b=2, lambd=0.9, mu_jump=0.5, std_jump=0.2, std_s=0.03)\n",
    "x0 = 2*torch.rand(2)\n",
    "\n",
    "sol = m.trajectory(x0, 10, 5000)"
   ]
  },
  {
   "cell_type": "code",
   "execution_count": null,
   "metadata": {},
   "outputs": [],
   "source": [
    "a = [torch.stack((el.view(1,2), torch.zeros(1,2)), ) for el in sol]"
   ]
  },
  {
   "cell_type": "code",
   "execution_count": null,
   "metadata": {},
   "outputs": [],
   "source": [
    "plt.plot(sol.numpy())"
   ]
  },
  {
   "cell_type": "code",
   "execution_count": null,
   "metadata": {},
   "outputs": [],
   "source": [
    "m.jcount"
   ]
  },
  {
   "cell_type": "code",
   "execution_count": null,
   "metadata": {},
   "outputs": [],
   "source": [
    "[m.log[i+1][0] - m.log[i][0] for i in range(len(m.log)-1)]"
   ]
  },
  {
   "cell_type": "code",
   "execution_count": null,
   "metadata": {},
   "outputs": [],
   "source": [
    "fig = plt.subplot()\n",
    "\n",
    "plt.scatter([l[0].numpy() for l in sol], [l[1].numpy() for l in sol], s=0.2, color='black')\n",
    "plt.scatter([l[2][0].numpy() for l in m.log], [l[2][1].numpy() for l in m.log], color='red')\n",
    "plt.scatter([l[1][0].numpy() for l in m.log], [l[1][1].numpy() for l in m.log], color='yellow')"
   ]
  },
  {
   "cell_type": "markdown",
   "metadata": {},
   "source": [
    "# Dataset creation"
   ]
  },
  {
   "cell_type": "code",
   "execution_count": null,
   "metadata": {},
   "outputs": [],
   "source": [
    "def buildDatasets(system, initial_conds, length, steps):\n",
    "    dataset = list()\n",
    "    for x0 in initial_conds:\n",
    "        sol = system.trajectory(x0, length, steps)\n",
    "    dataset.append([el[1] for el in system.log])\n",
    "    return dataset[0]"
   ]
  },
  {
   "cell_type": "code",
   "execution_count": null,
   "metadata": {},
   "outputs": [],
   "source": [
    "sys = LinearStochasticSystem(k=2, b=2, lambd=0.9, mu_jump=0.5, std_jump=0.2, std_s=0.03)\n",
    "initials = [4*torch.rand(2) for i in range(10)]\n",
    "log = buildDatasets(sys, initials, 5, 200)"
   ]
  },
  {
   "cell_type": "code",
   "execution_count": null,
   "metadata": {},
   "outputs": [],
   "source": [
    "log"
   ]
  },
  {
   "cell_type": "code",
   "execution_count": null,
   "metadata": {},
   "outputs": [],
   "source": [
    "net = MLP(2, 2)\n",
    "m = VAE(i=2, out=2)"
   ]
  },
  {
   "cell_type": "code",
   "execution_count": null,
   "metadata": {},
   "outputs": [],
   "source": [
    "train = torch.utils.data.TensorDataset(torch.stack(log, 0))"
   ]
  },
  {
   "cell_type": "code",
   "execution_count": null,
   "metadata": {},
   "outputs": [],
   "source": [
    "data_loader = torch.utils.data.DataLoader(dataset=train,\n",
    "                                          batch_size=1, \n",
    "                                          shuffle=True)"
   ]
  },
  {
   "cell_type": "code",
   "execution_count": null,
   "metadata": {},
   "outputs": [],
   "source": [
    "size = 2\n",
    "\n",
    "def train(m, loader, epochs):\n",
    "    for epoch in range(epochs):\n",
    "        optimizer = torch.optim.Adam(m.parameters(), lr=1e-3)\n",
    "        m.train()\n",
    "        train_loss = 0\n",
    "        for batch_idx, x in enumerate(loader):\n",
    "            # flatten the batch\n",
    "            x = x[0][0]\n",
    "            x = x.view(-1, size)\n",
    "            optimizer.zero_grad()\n",
    "            recon_batch, mu, logvar = m(x)\n",
    "            loss = loss_function(recon_batch, x, mu, logvar, 2)\n",
    "            loss.backward()\n",
    "            train_loss += loss.item()\n",
    "            optimizer.step()\n",
    "            if batch_idx % 100 == 0:\n",
    "                print('Train Epoch: {} [{}/{} ({:.0f}%)]\\tLoss: {:.6f}'.format(\n",
    "                    epoch, batch_idx * len(x), len(loader.dataset),\n",
    "                    100. * batch_idx / len(loader),\n",
    "                    loss.item() / len(x)))\n",
    "\n",
    "        print('====> Epoch: {} Average loss: {:.4f}'.format(\n",
    "              epoch, train_loss / len(loader.dataset)))"
   ]
  },
  {
   "cell_type": "code",
   "execution_count": null,
   "metadata": {},
   "outputs": [],
   "source": [
    "train(m, data_loader, 3)"
   ]
  },
  {
   "cell_type": "code",
   "execution_count": null,
   "metadata": {},
   "outputs": [],
   "source": []
  }
 ],
 "metadata": {
  "kernelspec": {
   "display_name": "Python 3",
   "language": "python",
   "name": "python3"
  },
  "language_info": {
   "codemirror_mode": {
    "name": "ipython",
    "version": 3
   },
   "file_extension": ".py",
   "mimetype": "text/x-python",
   "name": "python",
   "nbconvert_exporter": "python",
   "pygments_lexer": "ipython3",
   "version": "3.7.3"
  }
 },
 "nbformat": 4,
 "nbformat_minor": 2
}
